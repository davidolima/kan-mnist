{
 "cells": [
  {
   "cell_type": "code",
   "execution_count": 1,
   "id": "70cd7e7b",
   "metadata": {},
   "outputs": [],
   "source": [
    "import numpy as np\n",
    "import matplotlib.pyplot as plt\n",
    "\n",
    "import torch\n",
    "from torch.utils.data import DataLoader\n",
    "\n",
    "from torchvision.datasets import MNIST, mnist\n",
    "import torchvision.transforms as T\n",
    "\n",
    "from pykan.kan import *\n",
    "torch.set_default_dtype(torch.float64)"
   ]
  },
  {
   "cell_type": "markdown",
   "id": "3d72e076",
   "metadata": {},
   "source": [
    "Create dataset"
   ]
  },
  {
   "cell_type": "code",
   "execution_count": 2,
   "id": "c6f026bf",
   "metadata": {},
   "outputs": [
    {
     "name": "stdout",
     "output_type": "stream",
     "text": [
      "Running on cuda\n",
      "torch.Size([4096, 1, 28, 28])\n"
     ]
    },
    {
     "data": {
      "image/png": "[encoded data removed]",
      "text/plain": [
       "<Figure size 640x480 with 1 Axes>"
      ]
     },
     "metadata": {},
     "output_type": "display_data"
    }
   ],
   "source": [
    "device = torch.device('cuda' if torch.cuda.is_available() else 'cpu')\n",
    "print(\"Running on\", device)\n",
    "\n",
    "train_set = MNIST(root='/datasets', train=True,  transform=T.ToTensor(), download=True)\n",
    "test_set  = MNIST(root='/datasets', train=False, transform=T.ToTensor(), download=True)\n",
    "\n",
    "train_loader = DataLoader(train_set, batch_size=4096, shuffle=True)\n",
    "test_loader  = DataLoader(test_set,  batch_size=4096, shuffle=True)\n",
    "\n",
    "sample_batch = next(iter(train_loader))\n",
    "plt.imshow(sample_batch[0][0][0], cmap='grey')\n",
    "print(sample_batch[0].shape)\n",
    "\n",
    "del train_set, test_set, sample_batch"
   ]
  },
  {
   "cell_type": "markdown",
   "id": "6091f05a",
   "metadata": {},
   "source": [
    "Initialize KAN"
   ]
  },
  {
   "cell_type": "code",
   "execution_count": 3,
   "id": "aae72832",
   "metadata": {},
   "outputs": [
    {
     "name": "stdout",
     "output_type": "stream",
     "text": [
      "checkpoint directory created: ./model\n",
      "saving model version 0.0\n"
     ]
    },
    {
     "data": {
      "text/plain": [
       "MultKAN(\n",
       "  (act_fun): ModuleList(\n",
       "    (0): KANLayer(\n",
       "      (base_fun): SiLU()\n",
       "    )\n",
       "  )\n",
       "  (base_fun): SiLU()\n",
       "  (symbolic_fun): ModuleList(\n",
       "    (0): Symbolic_KANLayer()\n",
       "  )\n",
       ")"
      ]
     },
     "execution_count": 3,
     "metadata": {},
     "output_type": "execute_result"
    }
   ],
   "source": [
    "# cubic spline (k=3), 3 grid intervals (grid=3).\n",
    "model = KAN(width=[784, 10], grid=3, k=3, device=device, base_fun='silu')\n",
    "model.to(device)"
   ]
  },
  {
   "cell_type": "code",
   "execution_count": 4,
   "id": "6d4d198b",
   "metadata": {},
   "outputs": [],
   "source": [
    "def calculate_train_acc(model, dataset, one_hot=False):\n",
    "    labels = dataset['train_label']\n",
    "    if one_hot:\n",
    "        labels = torch.argmax(dataset['train_label'], dim=1)\n",
    "    return torch.mean((torch.argmax(model(dataset['train_input']), dim=1) == labels).float())\n",
    "\n",
    "def calculate_test_acc(model, dataset, one_hot=False):\n",
    "    with torch.no_grad():\n",
    "        model.eval()\n",
    "        labels = dataset['test_label']\n",
    "        if one_hot:\n",
    "            labels = torch.argmax(dataset['test_label'], dim=1)\n",
    "    acc = torch.mean((torch.argmax(model(dataset['test_input']), dim=1) == labels).float())\n",
    "    model.train()\n",
    "    return acc\n",
    "\n",
    "def make_kan_dataset_from_batch(imgs, labels, train_split_proportion = 0.8):\n",
    "    split_idx = int(len(imgs) * train_split_proportion)\n",
    "\n",
    "    dataset = {}\n",
    "    dataset['train_input'] = imgs[:split_idx].flatten(1)\n",
    "    dataset['train_label'] = labels[:split_idx]\n",
    "    dataset['test_input']  = imgs[split_idx:].flatten(1)\n",
    "    dataset['test_label']  = labels[split_idx:]\n",
    "    \n",
    "    return dataset"
   ]
  },
  {
   "cell_type": "markdown",
   "id": "ddf67e30",
   "metadata": {},
   "source": [
    "Train KAN with sparsity regularization"
   ]
  },
  {
   "cell_type": "code",
   "execution_count": 5,
   "id": "97111d75",
   "metadata": {},
   "outputs": [],
   "source": [
    "def batch_training(model: MultKAN, train_loader):\n",
    "    results = []\n",
    "\n",
    "    for (imgs, labels) in train_loader:\n",
    "        #labels = nn.functional.one_hot(labels, 10)\n",
    "        dataset = make_kan_dataset_from_batch(imgs.to(device), labels.to(device), 0.8)\n",
    "\n",
    "        batch_results = model.fit(\n",
    "            dataset=dataset,\n",
    "            opt=\"LBFGS\",\n",
    "            steps=3,\n",
    "            #metrics=[train_acc, test_acc],\n",
    "            lamb=0.001,\n",
    "            loss_fn=nn.CrossEntropyLoss()\n",
    "        )\n",
    "\n",
    "        batch_results['train_acc'] = calculate_train_acc(model, dataset).item()\n",
    "        batch_results['test_acc'] = calculate_test_acc(model, dataset).item()\n",
    "        results.append(batch_results)\n",
    "    return model, results"
   ]
  },
  {
   "cell_type": "code",
   "execution_count": 6,
   "id": "49068cae",
   "metadata": {},
   "outputs": [
    {
     "name": "stderr",
     "output_type": "stream",
     "text": [
      "| train_loss: 4.52e-01 | test_loss: 5.68e-01 | reg: 2.74e+02 | : 100%|█| 3/3 [00:05<00:00,  1.97s/it\n"
     ]
    },
    {
     "name": "stdout",
     "output_type": "stream",
     "text": [
      "saving model version 0.1\n"
     ]
    },
    {
     "name": "stderr",
     "output_type": "stream",
     "text": [
      "| train_loss: 4.31e-01 | test_loss: 5.94e-01 | reg: 2.72e+02 | : 100%|█| 3/3 [00:05<00:00,  1.74s/it\n"
     ]
    },
    {
     "name": "stdout",
     "output_type": "stream",
     "text": [
      "saving model version 0.2\n"
     ]
    },
    {
     "name": "stderr",
     "output_type": "stream",
     "text": [
      "| train_loss: 4.19e-01 | test_loss: 5.41e-01 | reg: 2.67e+02 | : 100%|█| 3/3 [00:05<00:00,  1.79s/it\n"
     ]
    },
    {
     "name": "stdout",
     "output_type": "stream",
     "text": [
      "saving model version 0.3\n"
     ]
    },
    {
     "name": "stderr",
     "output_type": "stream",
     "text": [
      "| train_loss: 4.09e-01 | test_loss: 6.28e-01 | reg: 2.69e+02 | : 100%|█| 3/3 [00:05<00:00,  1.77s/it\n"
     ]
    },
    {
     "name": "stdout",
     "output_type": "stream",
     "text": [
      "saving model version 0.4\n"
     ]
    },
    {
     "name": "stderr",
     "output_type": "stream",
     "text": [
      "| train_loss: 4.31e-01 | test_loss: 5.73e-01 | reg: 2.64e+02 | : 100%|█| 3/3 [00:05<00:00,  1.79s/it\n"
     ]
    },
    {
     "name": "stdout",
     "output_type": "stream",
     "text": [
      "saving model version 0.5\n"
     ]
    },
    {
     "name": "stderr",
     "output_type": "stream",
     "text": [
      "| train_loss: 4.23e-01 | test_loss: 6.15e-01 | reg: 2.76e+02 | : 100%|█| 3/3 [00:05<00:00,  1.70s/it\n"
     ]
    },
    {
     "name": "stdout",
     "output_type": "stream",
     "text": [
      "saving model version 0.6\n"
     ]
    },
    {
     "name": "stderr",
     "output_type": "stream",
     "text": [
      "| train_loss: 4.33e-01 | test_loss: 6.15e-01 | reg: 2.73e+02 | : 100%|█| 3/3 [00:05<00:00,  1.70s/it\n"
     ]
    },
    {
     "name": "stdout",
     "output_type": "stream",
     "text": [
      "saving model version 0.7\n"
     ]
    },
    {
     "name": "stderr",
     "output_type": "stream",
     "text": [
      "| train_loss: 4.34e-01 | test_loss: 6.12e-01 | reg: 2.72e+02 | : 100%|█| 3/3 [00:05<00:00,  1.74s/it\n"
     ]
    },
    {
     "name": "stdout",
     "output_type": "stream",
     "text": [
      "saving model version 0.8\n"
     ]
    },
    {
     "name": "stderr",
     "output_type": "stream",
     "text": [
      "| train_loss: 4.37e-01 | test_loss: 5.81e-01 | reg: 2.80e+02 | : 100%|█| 3/3 [00:05<00:00,  1.74s/it\n"
     ]
    },
    {
     "name": "stdout",
     "output_type": "stream",
     "text": [
      "saving model version 0.9\n"
     ]
    },
    {
     "name": "stderr",
     "output_type": "stream",
     "text": [
      "| train_loss: 4.18e-01 | test_loss: 5.62e-01 | reg: 2.77e+02 | : 100%|█| 3/3 [00:05<00:00,  1.77s/it\n"
     ]
    },
    {
     "name": "stdout",
     "output_type": "stream",
     "text": [
      "saving model version 0.10\n"
     ]
    },
    {
     "name": "stderr",
     "output_type": "stream",
     "text": [
      "| train_loss: 4.26e-01 | test_loss: 5.60e-01 | reg: 2.73e+02 | : 100%|█| 3/3 [00:05<00:00,  1.77s/it\n"
     ]
    },
    {
     "name": "stdout",
     "output_type": "stream",
     "text": [
      "saving model version 0.11\n"
     ]
    },
    {
     "name": "stderr",
     "output_type": "stream",
     "text": [
      "| train_loss: 4.30e-01 | test_loss: 5.97e-01 | reg: 2.80e+02 | : 100%|█| 3/3 [00:05<00:00,  1.74s/it\n"
     ]
    },
    {
     "name": "stdout",
     "output_type": "stream",
     "text": [
      "saving model version 0.12\n"
     ]
    },
    {
     "name": "stderr",
     "output_type": "stream",
     "text": [
      "| train_loss: 4.26e-01 | test_loss: 6.03e-01 | reg: 2.82e+02 | : 100%|█| 3/3 [00:05<00:00,  1.74s/it\n"
     ]
    },
    {
     "name": "stdout",
     "output_type": "stream",
     "text": [
      "saving model version 0.13\n"
     ]
    },
    {
     "name": "stderr",
     "output_type": "stream",
     "text": [
      "| train_loss: 4.14e-01 | test_loss: 5.67e-01 | reg: 2.78e+02 | : 100%|█| 3/3 [00:05<00:00,  1.79s/it\n"
     ]
    },
    {
     "name": "stdout",
     "output_type": "stream",
     "text": [
      "saving model version 0.14\n"
     ]
    },
    {
     "name": "stderr",
     "output_type": "stream",
     "text": [
      "| train_loss: 3.76e-01 | test_loss: 5.79e-01 | reg: 2.83e+02 | : 100%|█| 3/3 [00:03<00:00,  1.19s/it\n"
     ]
    },
    {
     "name": "stdout",
     "output_type": "stream",
     "text": [
      "saving model version 0.15\n"
     ]
    },
    {
     "data": {
      "text/plain": [
       "[{'train_loss': [array(0.61289958), array(0.50074253), array(0.45151171)],\n",
       "  'test_loss': [array(0.64667127), array(0.57884919), array(0.56846051)],\n",
       "  'reg': [array(274.57170767), array(278.60076289), array(273.75524317)],\n",
       "  'train_acc': 0.9612332582473755,\n",
       "  'test_acc': 0.9085366129875183},\n",
       " {'train_loss': [array(0.51038771), array(0.4628554), array(0.43091419)],\n",
       "  'test_loss': [array(0.5950363), array(0.58975471), array(0.59354115)],\n",
       "  'reg': [array(275.50852589), array(270.21685639), array(271.52301579)],\n",
       "  'train_acc': 0.9694750308990479,\n",
       "  'test_acc': 0.9036585092544556},\n",
       " {'train_loss': [array(0.48034542), array(0.44565467), array(0.41904516)],\n",
       "  'test_loss': [array(0.53439418), array(0.53438234), array(0.54103795)],\n",
       "  'reg': [array(284.44061659), array(269.47675641), array(266.67055436)],\n",
       "  'train_acc': 0.9725275039672852,\n",
       "  'test_acc': 0.9231707453727722},\n",
       " {'train_loss': [array(0.47769941), array(0.43443344), array(0.40932566)],\n",
       "  'test_loss': [array(0.62475982), array(0.61944828), array(0.62816663)],\n",
       "  'reg': [array(279.74252386), array(273.55279054), array(269.04072597)],\n",
       "  'train_acc': 0.9789377450942993,\n",
       "  'test_acc': 0.8841463327407837},\n",
       " {'train_loss': [array(0.49477545), array(0.44781356), array(0.43134169)],\n",
       "  'test_loss': [array(0.56852304), array(0.56626844), array(0.57349736)],\n",
       "  'reg': [array(283.47804541), array(278.4282634), array(264.20983585)],\n",
       "  'train_acc': 0.9691697359085083,\n",
       "  'test_acc': 0.9121951460838318},\n",
       " {'train_loss': [array(0.50189637), array(0.44504031), array(0.42304142)],\n",
       "  'test_loss': [array(0.60938005), array(0.61021108), array(0.61464778)],\n",
       "  'reg': [array(277.05451515), array(283.52716078), array(276.39722134)],\n",
       "  'train_acc': 0.9752747416496277,\n",
       "  'test_acc': 0.9060975909233093},\n",
       " {'train_loss': [array(0.5051064), array(0.45438112), array(0.4328113)],\n",
       "  'test_loss': [array(0.61874494), array(0.61158592), array(0.61524211)],\n",
       "  'reg': [array(285.18744843), array(281.6388927), array(273.03958143)],\n",
       "  'train_acc': 0.9691697359085083,\n",
       "  'test_acc': 0.8865853548049927},\n",
       " {'train_loss': [array(0.50028073), array(0.45737641), array(0.4335953)],\n",
       "  'test_loss': [array(0.60586436), array(0.60882035), array(0.61247799)],\n",
       "  'reg': [array(289.01539427), array(281.41165354), array(272.39967642)],\n",
       "  'train_acc': 0.9673382639884949,\n",
       "  'test_acc': 0.8829268217086792},\n",
       " {'train_loss': [array(0.52131104), array(0.47030108), array(0.43718673)],\n",
       "  'test_loss': [array(0.57832552), array(0.57436974), array(0.58081599)],\n",
       "  'reg': [array(281.15314979), array(279.63207075), array(280.14271949)],\n",
       "  'train_acc': 0.9706960320472717,\n",
       "  'test_acc': 0.9073171019554138},\n",
       " {'train_loss': [array(0.48104742), array(0.43679501), array(0.41808029)],\n",
       "  'test_loss': [array(0.5582424), array(0.55756366), array(0.56172183)],\n",
       "  'reg': [array(295.25092962), array(285.56173353), array(276.57527735)],\n",
       "  'train_acc': 0.9725275039672852,\n",
       "  'test_acc': 0.9012194871902466},\n",
       " {'train_loss': [array(0.49635966), array(0.45714859), array(0.42619245)],\n",
       "  'test_loss': [array(0.55974144), array(0.54523307), array(0.55952212)],\n",
       "  'reg': [array(283.78465056), array(274.40380413), array(272.92430124)],\n",
       "  'train_acc': 0.9688645005226135,\n",
       "  'test_acc': 0.9134146571159363},\n",
       " {'train_loss': [array(0.51206976), array(0.45366794), array(0.42997002)],\n",
       "  'test_loss': [array(0.59084479), array(0.59421506), array(0.59710884)],\n",
       "  'reg': [array(283.21553292), array(287.36648681), array(279.68025489)],\n",
       "  'train_acc': 0.9713065028190613,\n",
       "  'test_acc': 0.8890243768692017},\n",
       " {'train_loss': [array(0.50627255), array(0.44857632), array(0.42583771)],\n",
       "  'test_loss': [array(0.60257056), array(0.60062707), array(0.60349818)],\n",
       "  'reg': [array(285.09048668), array(290.16958742), array(281.59618614)],\n",
       "  'train_acc': 0.9722222685813904,\n",
       "  'test_acc': 0.8987804651260376},\n",
       " {'train_loss': [array(0.48041342), array(0.44008625), array(0.41366498)],\n",
       "  'test_loss': [array(0.56669378), array(0.55904591), array(0.56661925)],\n",
       "  'reg': [array(295.85421944), array(283.7765922), array(277.72812342)],\n",
       "  'train_acc': 0.9740537405014038,\n",
       "  'test_acc': 0.9085366129875183},\n",
       " {'train_loss': [array(0.46163509), array(0.40356212), array(0.37613444)],\n",
       "  'test_loss': [array(0.56935135), array(0.57322443), array(0.57869997)],\n",
       "  'reg': [array(299.74519505), array(292.2761163), array(282.50958756)],\n",
       "  'train_acc': 0.9868173003196716,\n",
       "  'test_acc': 0.9003759622573853}]"
      ]
     },
     "execution_count": 6,
     "metadata": {},
     "output_type": "execute_result"
    }
   ],
   "source": [
    "model, results = batch_training(model, train_loader)\n",
    "results"
   ]
  },
  {
   "cell_type": "code",
   "execution_count": 7,
   "id": "0a96bf90",
   "metadata": {},
   "outputs": [],
   "source": [
    "#model = model.loadckpt('./model/0.31')\n",
    "#model = model.prune()\n",
    "#model = model.refine(10)\n",
    "# model, results = batch_training(model, train_loader)\n",
    "# results"
   ]
  },
  {
   "cell_type": "code",
   "execution_count": 8,
   "id": "b5e1da0a",
   "metadata": {},
   "outputs": [
    {
     "name": "stdout",
     "output_type": "stream",
     "text": [
      "torch.Size([820, 784]) torch.Size([820, 10])\n",
      "torch.Size([820, 784]) torch.Size([820, 10])\n",
      "torch.Size([362, 784]) torch.Size([362, 10])\n"
     ]
    },
    {
     "data": {
      "text/plain": [
       "[{'test_loss': 3.3959235186435826,\n",
       "  'n_edge': 7840,\n",
       "  'n_grid': 3,\n",
       "  'test_acc': 0.9024389982223511},\n",
       " {'test_loss': 3.3630879260594875,\n",
       "  'n_edge': 7840,\n",
       "  'n_grid': 3,\n",
       "  'test_acc': 0.8926829099655151},\n",
       " {'test_loss': 3.389614636718438,\n",
       "  'n_edge': 7840,\n",
       "  'n_grid': 3,\n",
       "  'test_acc': 0.9088398218154907}]"
      ]
     },
     "execution_count": 8,
     "metadata": {},
     "output_type": "execute_result"
    }
   ],
   "source": [
    "results = []\n",
    "for img, label in test_loader:\n",
    "    dataset = make_kan_dataset_from_batch(img.to(device), label.to(device))\n",
    "    dataset['test_label'] = nn.functional.one_hot(dataset['test_label'], 10)\n",
    "    print(dataset['test_input'].shape, dataset['test_label'].shape)\n",
    "    batch_results = model.evaluate(dataset)\n",
    "    batch_results['test_acc'] = calculate_test_acc(model, dataset, one_hot=True).item()\n",
    "    results.append(batch_results)\n",
    "\n",
    "results"
   ]
  },
  {
   "cell_type": "code",
   "execution_count": null,
   "id": "c6c1436c",
   "metadata": {},
   "outputs": [],
   "source": []
  }
 ],
 "metadata": {
  "kernelspec": {
   "display_name": "Python 3",
   "language": "python",
   "name": "python3"
  },
  "language_info": {
   "codemirror_mode": {
    "name": "ipython",
    "version": 3
   },
   "file_extension": ".py",
   "mimetype": "text/x-python",
   "name": "python",
   "nbconvert_exporter": "python",
   "pygments_lexer": "ipython3",
   "version": "3.12.4"
  }
 },
 "nbformat": 4,
 "nbformat_minor": 5
}
